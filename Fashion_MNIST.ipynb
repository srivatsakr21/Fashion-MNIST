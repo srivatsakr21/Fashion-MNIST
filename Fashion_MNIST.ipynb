{
  "nbformat": 4,
  "nbformat_minor": 0,
  "metadata": {
    "colab": {
      "name": "Fashion_MNIST.ipynb",
      "provenance": [],
      "authorship_tag": "ABX9TyMb4fPOiTzbVnbaIiEzoKo4",
      "include_colab_link": true
    },
    "kernelspec": {
      "name": "python3",
      "display_name": "Python 3"
    }
  },
  "cells": [
    {
      "cell_type": "markdown",
      "metadata": {
        "id": "view-in-github",
        "colab_type": "text"
      },
      "source": [
        "<a href=\"https://colab.research.google.com/github/srivatsakr21/Fashion-MNIST/blob/master/Fashion_MNIST.ipynb\" target=\"_parent\"><img src=\"https://colab.research.google.com/assets/colab-badge.svg\" alt=\"Open In Colab\"/></a>"
      ]
    },
    {
      "cell_type": "code",
      "metadata": {
        "id": "008p_ihp3g2w",
        "colab_type": "code",
        "colab": {}
      },
      "source": [
        "import tensorflow as tf\n",
        "from tensorflow import keras"
      ],
      "execution_count": 0,
      "outputs": []
    },
    {
      "cell_type": "code",
      "metadata": {
        "id": "HkPIRDKa3rjE",
        "colab_type": "code",
        "outputId": "2082196e-53bd-49e3-af8d-3f6491d83d95",
        "colab": {
          "base_uri": "https://localhost:8080/",
          "height": 34
        }
      },
      "source": [
        "tf.__version__"
      ],
      "execution_count": 2,
      "outputs": [
        {
          "output_type": "execute_result",
          "data": {
            "text/plain": [
              "'2.2.0-rc2'"
            ]
          },
          "metadata": {
            "tags": []
          },
          "execution_count": 2
        }
      ]
    },
    {
      "cell_type": "code",
      "metadata": {
        "id": "v5REygTr31r5",
        "colab_type": "code",
        "outputId": "b4249d51-02af-41e3-d636-0424ed0d532e",
        "colab": {
          "base_uri": "https://localhost:8080/",
          "height": 34
        }
      },
      "source": [
        "keras.__version__"
      ],
      "execution_count": 3,
      "outputs": [
        {
          "output_type": "execute_result",
          "data": {
            "text/plain": [
              "'2.3.0-tf'"
            ]
          },
          "metadata": {
            "tags": []
          },
          "execution_count": 3
        }
      ]
    },
    {
      "cell_type": "code",
      "metadata": {
        "id": "YdkVlo_93-Fd",
        "colab_type": "code",
        "colab": {}
      },
      "source": [
        "fashion_mnist = keras.datasets.fashion_mnist"
      ],
      "execution_count": 0,
      "outputs": []
    },
    {
      "cell_type": "code",
      "metadata": {
        "id": "AvhMZlW84DJD",
        "colab_type": "code",
        "outputId": "8fdc9e0b-8843-490e-9c20-f663506da515",
        "colab": {
          "base_uri": "https://localhost:8080/",
          "height": 158
        }
      },
      "source": [
        "(X_train_full,y_train_full),(X_test,y_test) = fashion_mnist.load_data()"
      ],
      "execution_count": 5,
      "outputs": [
        {
          "output_type": "stream",
          "text": [
            "Downloading data from https://storage.googleapis.com/tensorflow/tf-keras-datasets/train-labels-idx1-ubyte.gz\n",
            "32768/29515 [=================================] - 0s 0us/step\n",
            "Downloading data from https://storage.googleapis.com/tensorflow/tf-keras-datasets/train-images-idx3-ubyte.gz\n",
            "26427392/26421880 [==============================] - 0s 0us/step\n",
            "Downloading data from https://storage.googleapis.com/tensorflow/tf-keras-datasets/t10k-labels-idx1-ubyte.gz\n",
            "8192/5148 [===============================================] - 0s 0us/step\n",
            "Downloading data from https://storage.googleapis.com/tensorflow/tf-keras-datasets/t10k-images-idx3-ubyte.gz\n",
            "4423680/4422102 [==============================] - 0s 0us/step\n"
          ],
          "name": "stdout"
        }
      ]
    },
    {
      "cell_type": "code",
      "metadata": {
        "id": "plawGZXJ4Jl0",
        "colab_type": "code",
        "outputId": "f1481b39-c3c9-4dd5-f9ff-b280071b83c3",
        "colab": {
          "base_uri": "https://localhost:8080/",
          "height": 34
        }
      },
      "source": [
        "X_train_full.shape"
      ],
      "execution_count": 6,
      "outputs": [
        {
          "output_type": "execute_result",
          "data": {
            "text/plain": [
              "(60000, 28, 28)"
            ]
          },
          "metadata": {
            "tags": []
          },
          "execution_count": 6
        }
      ]
    },
    {
      "cell_type": "code",
      "metadata": {
        "id": "4-fQvuyc4PLU",
        "colab_type": "code",
        "outputId": "fe3b36fd-c4d2-4e94-9bcf-d4bfdd2c5066",
        "colab": {
          "base_uri": "https://localhost:8080/",
          "height": 34
        }
      },
      "source": [
        "X_train_full.dtype"
      ],
      "execution_count": 7,
      "outputs": [
        {
          "output_type": "execute_result",
          "data": {
            "text/plain": [
              "dtype('uint8')"
            ]
          },
          "metadata": {
            "tags": []
          },
          "execution_count": 7
        }
      ]
    },
    {
      "cell_type": "code",
      "metadata": {
        "id": "TczzpJ9E4ULE",
        "colab_type": "code",
        "colab": {}
      },
      "source": [
        "X_valid,X_train = X_train_full[:5000]/255,X_train_full[5000:]/255\n",
        "y_valid,y_train = y_train_full[:5000],y_train_full[5000:]\n",
        "X_test = X_test/255"
      ],
      "execution_count": 0,
      "outputs": []
    },
    {
      "cell_type": "code",
      "metadata": {
        "id": "3_p8tHzD45yg",
        "colab_type": "code",
        "colab": {}
      },
      "source": [
        "class_names = [\"T-shirt/top\", \"Trouser\", \"Pullover\", \"Dress\", \"Coat\",\n",
        "               \"Sandal\", \"Shirt\", \"Sneaker\", \"Bag\", \"Ankle boot\"]"
      ],
      "execution_count": 0,
      "outputs": []
    },
    {
      "cell_type": "markdown",
      "metadata": {
        "id": "jR1pT_5v6oQx",
        "colab_type": "text"
      },
      "source": [
        "**Now we are creating  model using the Sequential API**"
      ]
    },
    {
      "cell_type": "code",
      "metadata": {
        "id": "JYXClQ8m58Xa",
        "colab_type": "code",
        "colab": {}
      },
      "source": [
        "model = keras.models.Sequential()"
      ],
      "execution_count": 0,
      "outputs": []
    },
    {
      "cell_type": "markdown",
      "metadata": {
        "id": "lNU6gCq37moY",
        "colab_type": "text"
      },
      "source": [
        "**Now we need to add different layers to the model**\n",
        "\n",
        "\n",
        "1.   First layer is a Flatten layer that will convert the inputs to a 1d array.\n",
        "2.   Second layer is a Dense layer with 300 Neurons. Activation function used is ReLU\n",
        "3.   Third layer is again a Dense layer with 100 Neurons\n",
        "4.   Fourth layer is the output layer with 10 Neurons(1 for each class) and the activation function is Softmax\n",
        "\n"
      ]
    },
    {
      "cell_type": "code",
      "metadata": {
        "id": "ErsKKdbn60rC",
        "colab_type": "code",
        "colab": {}
      },
      "source": [
        "  model.add(keras.layers.Flatten(input_shape=[28,28]))\n",
        "  model.add(keras.layers.Dense(300,activation='relu'))\n",
        "  model.add(keras.layers.Dense(100,activation='relu'))\n",
        "  model.add(keras.layers.Dense(10,activation='softmax'))"
      ],
      "execution_count": 0,
      "outputs": []
    },
    {
      "cell_type": "code",
      "metadata": {
        "id": "u1-IbZU69Pzc",
        "colab_type": "code",
        "outputId": "f550aab9-e5d4-49f6-e498-7e350b687c6a",
        "colab": {
          "base_uri": "https://localhost:8080/",
          "height": 301
        }
      },
      "source": [
        "model.summary()"
      ],
      "execution_count": 12,
      "outputs": [
        {
          "output_type": "stream",
          "text": [
            "Model: \"sequential\"\n",
            "_________________________________________________________________\n",
            "Layer (type)                 Output Shape              Param #   \n",
            "=================================================================\n",
            "flatten (Flatten)            (None, 784)               0         \n",
            "_________________________________________________________________\n",
            "dense (Dense)                (None, 300)               235500    \n",
            "_________________________________________________________________\n",
            "dense_1 (Dense)              (None, 100)               30100     \n",
            "_________________________________________________________________\n",
            "dense_2 (Dense)              (None, 10)                1010      \n",
            "=================================================================\n",
            "Total params: 266,610\n",
            "Trainable params: 266,610\n",
            "Non-trainable params: 0\n",
            "_________________________________________________________________\n"
          ],
          "name": "stdout"
        }
      ]
    },
    {
      "cell_type": "code",
      "metadata": {
        "id": "I_XeVRhy9ur-",
        "colab_type": "code",
        "colab": {}
      },
      "source": [
        "hidden1 = model.layers[1]"
      ],
      "execution_count": 0,
      "outputs": []
    },
    {
      "cell_type": "code",
      "metadata": {
        "id": "iO9aNOtL-kGh",
        "colab_type": "code",
        "colab": {}
      },
      "source": [
        "weights, biases = hidden1.get_weights()"
      ],
      "execution_count": 0,
      "outputs": []
    },
    {
      "cell_type": "code",
      "metadata": {
        "id": "I1REcudi-pJz",
        "colab_type": "code",
        "outputId": "edccf77f-ca8e-4eff-fb49-980ab60d0e49",
        "colab": {
          "base_uri": "https://localhost:8080/",
          "height": 247
        }
      },
      "source": [
        "weights"
      ],
      "execution_count": 15,
      "outputs": [
        {
          "output_type": "execute_result",
          "data": {
            "text/plain": [
              "array([[-0.04912429,  0.04234741,  0.00713722, ...,  0.06191996,\n",
              "         0.05158433, -0.00666188],\n",
              "       [-0.06179382, -0.00877282, -0.02850429, ...,  0.05552097,\n",
              "        -0.05068824, -0.05405372],\n",
              "       [ 0.06129542, -0.04519238,  0.03581738, ..., -0.01234005,\n",
              "        -0.0283003 ,  0.02439549],\n",
              "       ...,\n",
              "       [-0.00336406, -0.00917996,  0.04841366, ...,  0.06773992,\n",
              "        -0.01489054, -0.02066785],\n",
              "       [ 0.01313793, -0.03999306,  0.04163112, ..., -0.01420431,\n",
              "        -0.03747833,  0.03746878],\n",
              "       [-0.0533177 , -0.04597843,  0.07250516, ..., -0.06039892,\n",
              "        -0.00901312, -0.06167134]], dtype=float32)"
            ]
          },
          "metadata": {
            "tags": []
          },
          "execution_count": 15
        }
      ]
    },
    {
      "cell_type": "code",
      "metadata": {
        "id": "i68g4vyD-qVc",
        "colab_type": "code",
        "outputId": "cd322aeb-0a6f-4314-944c-5393ea6eca85",
        "colab": {
          "base_uri": "https://localhost:8080/",
          "height": 336
        }
      },
      "source": [
        "biases"
      ],
      "execution_count": 16,
      "outputs": [
        {
          "output_type": "execute_result",
          "data": {
            "text/plain": [
              "array([0., 0., 0., 0., 0., 0., 0., 0., 0., 0., 0., 0., 0., 0., 0., 0., 0.,\n",
              "       0., 0., 0., 0., 0., 0., 0., 0., 0., 0., 0., 0., 0., 0., 0., 0., 0.,\n",
              "       0., 0., 0., 0., 0., 0., 0., 0., 0., 0., 0., 0., 0., 0., 0., 0., 0.,\n",
              "       0., 0., 0., 0., 0., 0., 0., 0., 0., 0., 0., 0., 0., 0., 0., 0., 0.,\n",
              "       0., 0., 0., 0., 0., 0., 0., 0., 0., 0., 0., 0., 0., 0., 0., 0., 0.,\n",
              "       0., 0., 0., 0., 0., 0., 0., 0., 0., 0., 0., 0., 0., 0., 0., 0., 0.,\n",
              "       0., 0., 0., 0., 0., 0., 0., 0., 0., 0., 0., 0., 0., 0., 0., 0., 0.,\n",
              "       0., 0., 0., 0., 0., 0., 0., 0., 0., 0., 0., 0., 0., 0., 0., 0., 0.,\n",
              "       0., 0., 0., 0., 0., 0., 0., 0., 0., 0., 0., 0., 0., 0., 0., 0., 0.,\n",
              "       0., 0., 0., 0., 0., 0., 0., 0., 0., 0., 0., 0., 0., 0., 0., 0., 0.,\n",
              "       0., 0., 0., 0., 0., 0., 0., 0., 0., 0., 0., 0., 0., 0., 0., 0., 0.,\n",
              "       0., 0., 0., 0., 0., 0., 0., 0., 0., 0., 0., 0., 0., 0., 0., 0., 0.,\n",
              "       0., 0., 0., 0., 0., 0., 0., 0., 0., 0., 0., 0., 0., 0., 0., 0., 0.,\n",
              "       0., 0., 0., 0., 0., 0., 0., 0., 0., 0., 0., 0., 0., 0., 0., 0., 0.,\n",
              "       0., 0., 0., 0., 0., 0., 0., 0., 0., 0., 0., 0., 0., 0., 0., 0., 0.,\n",
              "       0., 0., 0., 0., 0., 0., 0., 0., 0., 0., 0., 0., 0., 0., 0., 0., 0.,\n",
              "       0., 0., 0., 0., 0., 0., 0., 0., 0., 0., 0., 0., 0., 0., 0., 0., 0.,\n",
              "       0., 0., 0., 0., 0., 0., 0., 0., 0., 0., 0.], dtype=float32)"
            ]
          },
          "metadata": {
            "tags": []
          },
          "execution_count": 16
        }
      ]
    },
    {
      "cell_type": "markdown",
      "metadata": {
        "id": "EmA7F7RPAd5g",
        "colab_type": "text"
      },
      "source": [
        "**Once the model is built, compile the model and specify the loss function and any other metric that the model should calculate**"
      ]
    },
    {
      "cell_type": "code",
      "metadata": {
        "id": "ic7DWYdQ-rpT",
        "colab_type": "code",
        "colab": {}
      },
      "source": [
        "model.compile(loss=\"sparse_categorical_crossentropy\",\n",
        "              optimizer=\"sgd\",\n",
        "              metrics=[\"accuracy\"])"
      ],
      "execution_count": 0,
      "outputs": []
    },
    {
      "cell_type": "markdown",
      "metadata": {
        "id": "jMI2wNCkBMZc",
        "colab_type": "text"
      },
      "source": [
        "**Now fit the model**"
      ]
    },
    {
      "cell_type": "code",
      "metadata": {
        "id": "T5xaF2gqAtmC",
        "colab_type": "code",
        "outputId": "d8b2f101-4f8c-47c3-ca02-296cccdd0f7d",
        "colab": {
          "base_uri": "https://localhost:8080/",
          "height": 1000
        }
      },
      "source": [
        "history = model.fit(X_train,y_train,epochs=30,validation_data=(X_valid, y_valid))"
      ],
      "execution_count": 18,
      "outputs": [
        {
          "output_type": "stream",
          "text": [
            "Epoch 1/30\n",
            "1719/1719 [==============================] - 5s 3ms/step - loss: 0.7332 - accuracy: 0.7576 - val_loss: 0.5019 - val_accuracy: 0.8300\n",
            "Epoch 2/30\n",
            "1719/1719 [==============================] - 5s 3ms/step - loss: 0.4908 - accuracy: 0.8301 - val_loss: 0.4411 - val_accuracy: 0.8500\n",
            "Epoch 3/30\n",
            "1719/1719 [==============================] - 5s 3ms/step - loss: 0.4459 - accuracy: 0.8445 - val_loss: 0.4266 - val_accuracy: 0.8524\n",
            "Epoch 4/30\n",
            "1719/1719 [==============================] - 5s 3ms/step - loss: 0.4194 - accuracy: 0.8533 - val_loss: 0.3917 - val_accuracy: 0.8654\n",
            "Epoch 5/30\n",
            "1719/1719 [==============================] - 5s 3ms/step - loss: 0.3981 - accuracy: 0.8586 - val_loss: 0.3945 - val_accuracy: 0.8630\n",
            "Epoch 6/30\n",
            "1719/1719 [==============================] - 5s 3ms/step - loss: 0.3827 - accuracy: 0.8646 - val_loss: 0.3879 - val_accuracy: 0.8622\n",
            "Epoch 7/30\n",
            "1719/1719 [==============================] - 5s 3ms/step - loss: 0.3679 - accuracy: 0.8707 - val_loss: 0.3571 - val_accuracy: 0.8752\n",
            "Epoch 8/30\n",
            "1719/1719 [==============================] - 5s 3ms/step - loss: 0.3574 - accuracy: 0.8731 - val_loss: 0.3536 - val_accuracy: 0.8760\n",
            "Epoch 9/30\n",
            "1719/1719 [==============================] - 5s 3ms/step - loss: 0.3462 - accuracy: 0.8777 - val_loss: 0.3486 - val_accuracy: 0.8760\n",
            "Epoch 10/30\n",
            "1719/1719 [==============================] - 5s 3ms/step - loss: 0.3376 - accuracy: 0.8797 - val_loss: 0.3477 - val_accuracy: 0.8756\n",
            "Epoch 11/30\n",
            "1719/1719 [==============================] - 5s 3ms/step - loss: 0.3284 - accuracy: 0.8828 - val_loss: 0.3388 - val_accuracy: 0.8794\n",
            "Epoch 12/30\n",
            "1719/1719 [==============================] - 5s 3ms/step - loss: 0.3204 - accuracy: 0.8844 - val_loss: 0.3330 - val_accuracy: 0.8812\n",
            "Epoch 13/30\n",
            "1719/1719 [==============================] - 5s 3ms/step - loss: 0.3138 - accuracy: 0.8872 - val_loss: 0.3268 - val_accuracy: 0.8810\n",
            "Epoch 14/30\n",
            "1719/1719 [==============================] - 5s 3ms/step - loss: 0.3055 - accuracy: 0.8909 - val_loss: 0.3534 - val_accuracy: 0.8720\n",
            "Epoch 15/30\n",
            "1719/1719 [==============================] - 5s 3ms/step - loss: 0.2997 - accuracy: 0.8911 - val_loss: 0.3302 - val_accuracy: 0.8770\n",
            "Epoch 16/30\n",
            "1719/1719 [==============================] - 5s 3ms/step - loss: 0.2930 - accuracy: 0.8942 - val_loss: 0.3245 - val_accuracy: 0.8796\n",
            "Epoch 17/30\n",
            "1719/1719 [==============================] - 5s 3ms/step - loss: 0.2861 - accuracy: 0.8959 - val_loss: 0.3132 - val_accuracy: 0.8858\n",
            "Epoch 18/30\n",
            "1719/1719 [==============================] - 5s 3ms/step - loss: 0.2809 - accuracy: 0.8977 - val_loss: 0.3095 - val_accuracy: 0.8866\n",
            "Epoch 19/30\n",
            "1719/1719 [==============================] - 5s 3ms/step - loss: 0.2766 - accuracy: 0.9001 - val_loss: 0.3064 - val_accuracy: 0.8908\n",
            "Epoch 20/30\n",
            "1719/1719 [==============================] - 5s 3ms/step - loss: 0.2699 - accuracy: 0.9025 - val_loss: 0.3258 - val_accuracy: 0.8816\n",
            "Epoch 21/30\n",
            "1719/1719 [==============================] - 5s 3ms/step - loss: 0.2650 - accuracy: 0.9044 - val_loss: 0.2998 - val_accuracy: 0.8936\n",
            "Epoch 22/30\n",
            "1719/1719 [==============================] - 5s 3ms/step - loss: 0.2609 - accuracy: 0.9064 - val_loss: 0.3213 - val_accuracy: 0.8856\n",
            "Epoch 23/30\n",
            "1719/1719 [==============================] - 5s 3ms/step - loss: 0.2558 - accuracy: 0.9079 - val_loss: 0.3129 - val_accuracy: 0.8860\n",
            "Epoch 24/30\n",
            "1719/1719 [==============================] - 5s 3ms/step - loss: 0.2505 - accuracy: 0.9103 - val_loss: 0.2972 - val_accuracy: 0.8904\n",
            "Epoch 25/30\n",
            "1719/1719 [==============================] - 5s 3ms/step - loss: 0.2462 - accuracy: 0.9122 - val_loss: 0.2951 - val_accuracy: 0.8920\n",
            "Epoch 26/30\n",
            "1719/1719 [==============================] - 5s 3ms/step - loss: 0.2430 - accuracy: 0.9119 - val_loss: 0.2948 - val_accuracy: 0.8950\n",
            "Epoch 27/30\n",
            "1719/1719 [==============================] - 5s 3ms/step - loss: 0.2381 - accuracy: 0.9135 - val_loss: 0.3091 - val_accuracy: 0.8880\n",
            "Epoch 28/30\n",
            "1719/1719 [==============================] - 5s 3ms/step - loss: 0.2349 - accuracy: 0.9160 - val_loss: 0.2931 - val_accuracy: 0.8946\n",
            "Epoch 29/30\n",
            "1719/1719 [==============================] - 5s 3ms/step - loss: 0.2305 - accuracy: 0.9179 - val_loss: 0.2988 - val_accuracy: 0.8932\n",
            "Epoch 30/30\n",
            "1719/1719 [==============================] - 5s 3ms/step - loss: 0.2269 - accuracy: 0.9182 - val_loss: 0.3197 - val_accuracy: 0.8824\n"
          ],
          "name": "stdout"
        }
      ]
    },
    {
      "cell_type": "code",
      "metadata": {
        "id": "vpKM1nzzBk7Z",
        "colab_type": "code",
        "colab": {
          "base_uri": "https://localhost:8080/",
          "height": 34
        },
        "outputId": "d3460763-c029-4ae7-d594-926f73cfe082"
      },
      "source": [
        "history.params"
      ],
      "execution_count": 19,
      "outputs": [
        {
          "output_type": "execute_result",
          "data": {
            "text/plain": [
              "{'epochs': 30, 'steps': 1719, 'verbose': 1}"
            ]
          },
          "metadata": {
            "tags": []
          },
          "execution_count": 19
        }
      ]
    },
    {
      "cell_type": "code",
      "metadata": {
        "id": "CVlx5h9Vppw6",
        "colab_type": "code",
        "colab": {
          "base_uri": "https://localhost:8080/",
          "height": 550
        },
        "outputId": "066c2cf0-0ab7-45fc-d16b-a9e28f8096da"
      },
      "source": [
        "history.epoch"
      ],
      "execution_count": 21,
      "outputs": [
        {
          "output_type": "execute_result",
          "data": {
            "text/plain": [
              "[0,\n",
              " 1,\n",
              " 2,\n",
              " 3,\n",
              " 4,\n",
              " 5,\n",
              " 6,\n",
              " 7,\n",
              " 8,\n",
              " 9,\n",
              " 10,\n",
              " 11,\n",
              " 12,\n",
              " 13,\n",
              " 14,\n",
              " 15,\n",
              " 16,\n",
              " 17,\n",
              " 18,\n",
              " 19,\n",
              " 20,\n",
              " 21,\n",
              " 22,\n",
              " 23,\n",
              " 24,\n",
              " 25,\n",
              " 26,\n",
              " 27,\n",
              " 28,\n",
              " 29]"
            ]
          },
          "metadata": {
            "tags": []
          },
          "execution_count": 21
        }
      ]
    },
    {
      "cell_type": "code",
      "metadata": {
        "id": "qlOgAaGxps4P",
        "colab_type": "code",
        "colab": {
          "base_uri": "https://localhost:8080/",
          "height": 1000
        },
        "outputId": "ff84c8e0-c42b-4800-c257-524229245688"
      },
      "source": [
        "history.history"
      ],
      "execution_count": 22,
      "outputs": [
        {
          "output_type": "execute_result",
          "data": {
            "text/plain": [
              "{'accuracy': [0.7575818300247192,\n",
              "  0.830054521560669,\n",
              "  0.8444727063179016,\n",
              "  0.8533272743225098,\n",
              "  0.8585636615753174,\n",
              "  0.8645636439323425,\n",
              "  0.8706545233726501,\n",
              "  0.873054563999176,\n",
              "  0.8777272701263428,\n",
              "  0.8797272443771362,\n",
              "  0.8827999830245972,\n",
              "  0.8844000101089478,\n",
              "  0.8871636390686035,\n",
              "  0.8908727169036865,\n",
              "  0.8911091089248657,\n",
              "  0.8941636085510254,\n",
              "  0.8958545327186584,\n",
              "  0.8977090716362,\n",
              "  0.9000545740127563,\n",
              "  0.9024909138679504,\n",
              "  0.9043636322021484,\n",
              "  0.9064363837242126,\n",
              "  0.907909095287323,\n",
              "  0.9103272557258606,\n",
              "  0.9121999740600586,\n",
              "  0.9118545651435852,\n",
              "  0.9135090708732605,\n",
              "  0.9159636497497559,\n",
              "  0.9178727269172668,\n",
              "  0.9182363748550415],\n",
              " 'loss': [0.733186662197113,\n",
              "  0.490817666053772,\n",
              "  0.44594794511795044,\n",
              "  0.41940152645111084,\n",
              "  0.39807409048080444,\n",
              "  0.38273316621780396,\n",
              "  0.36792561411857605,\n",
              "  0.3573564291000366,\n",
              "  0.3462245464324951,\n",
              "  0.337624728679657,\n",
              "  0.328439325094223,\n",
              "  0.32040324807167053,\n",
              "  0.31377992033958435,\n",
              "  0.30553826689720154,\n",
              "  0.2997140884399414,\n",
              "  0.29304906725883484,\n",
              "  0.2861279547214508,\n",
              "  0.2808774709701538,\n",
              "  0.27664750814437866,\n",
              "  0.2699098587036133,\n",
              "  0.2650167644023895,\n",
              "  0.2608640491962433,\n",
              "  0.25577759742736816,\n",
              "  0.25050485134124756,\n",
              "  0.24620358645915985,\n",
              "  0.24303995072841644,\n",
              "  0.23811286687850952,\n",
              "  0.2348950207233429,\n",
              "  0.2305057942867279,\n",
              "  0.22690404951572418],\n",
              " 'val_accuracy': [0.8299999833106995,\n",
              "  0.8500000238418579,\n",
              "  0.852400004863739,\n",
              "  0.8654000163078308,\n",
              "  0.8629999756813049,\n",
              "  0.8622000217437744,\n",
              "  0.8751999735832214,\n",
              "  0.8759999871253967,\n",
              "  0.8759999871253967,\n",
              "  0.8755999803543091,\n",
              "  0.8794000148773193,\n",
              "  0.8812000155448914,\n",
              "  0.8809999823570251,\n",
              "  0.871999979019165,\n",
              "  0.8769999742507935,\n",
              "  0.8795999884605408,\n",
              "  0.8858000040054321,\n",
              "  0.8866000175476074,\n",
              "  0.8907999992370605,\n",
              "  0.881600022315979,\n",
              "  0.8935999870300293,\n",
              "  0.8855999708175659,\n",
              "  0.8859999775886536,\n",
              "  0.8903999924659729,\n",
              "  0.8920000195503235,\n",
              "  0.8949999809265137,\n",
              "  0.8880000114440918,\n",
              "  0.894599974155426,\n",
              "  0.8931999802589417,\n",
              "  0.8823999762535095],\n",
              " 'val_loss': [0.5019019842147827,\n",
              "  0.44108888506889343,\n",
              "  0.4265703856945038,\n",
              "  0.3917311728000641,\n",
              "  0.3944595158100128,\n",
              "  0.3878943920135498,\n",
              "  0.3570568561553955,\n",
              "  0.35362422466278076,\n",
              "  0.34861934185028076,\n",
              "  0.3477306067943573,\n",
              "  0.3388105034828186,\n",
              "  0.3329967260360718,\n",
              "  0.3267873525619507,\n",
              "  0.35335573554039,\n",
              "  0.3301742374897003,\n",
              "  0.32446321845054626,\n",
              "  0.3132292330265045,\n",
              "  0.3094920217990875,\n",
              "  0.30643653869628906,\n",
              "  0.32578742504119873,\n",
              "  0.2997760772705078,\n",
              "  0.3213023841381073,\n",
              "  0.31293216347694397,\n",
              "  0.29723837971687317,\n",
              "  0.29511135816574097,\n",
              "  0.29477834701538086,\n",
              "  0.3090715706348419,\n",
              "  0.29305917024612427,\n",
              "  0.29875001311302185,\n",
              "  0.3197326958179474]}"
            ]
          },
          "metadata": {
            "tags": []
          },
          "execution_count": 22
        }
      ]
    },
    {
      "cell_type": "code",
      "metadata": {
        "id": "9MHYRF1LpzK0",
        "colab_type": "code",
        "colab": {}
      },
      "source": [
        "import pandas as pd\n",
        "import matplotlib.pyplot as plt"
      ],
      "execution_count": 0,
      "outputs": []
    },
    {
      "cell_type": "code",
      "metadata": {
        "id": "QwEHxmnbqAzi",
        "colab_type": "code",
        "colab": {
          "base_uri": "https://localhost:8080/",
          "height": 595
        },
        "outputId": "c158bb67-38e2-4b6d-b3d1-c0b656f13755"
      },
      "source": [
        "pd.DataFrame(history.history).plot(figsize=(12,10))\n",
        "plt.grid(True)\n",
        "plt.gca().set_ylim(0,1)\n",
        "plt.show()"
      ],
      "execution_count": 29,
      "outputs": [
        {
          "output_type": "display_data",
          "data": {
            "image/png": "[encoded data removed]",
            "text/plain": [
              "<Figure size 864x720 with 1 Axes>"
            ]
          },
          "metadata": {
            "tags": []
          }
        }
      ]
    },
    {
      "cell_type": "code",
      "metadata": {
        "id": "0YUNb1_1qMK2",
        "colab_type": "code",
        "colab": {
          "base_uri": "https://localhost:8080/",
          "height": 52
        },
        "outputId": "ccf0200a-a582-4738-98cd-8b311012ab40"
      },
      "source": [
        "model.evaluate(X_test,y_test)"
      ],
      "execution_count": 30,
      "outputs": [
        {
          "output_type": "stream",
          "text": [
            "313/313 [==============================] - 1s 2ms/step - loss: 0.3544 - accuracy: 0.8742\n"
          ],
          "name": "stdout"
        },
        {
          "output_type": "execute_result",
          "data": {
            "text/plain": [
              "[0.35441598296165466, 0.8741999864578247]"
            ]
          },
          "metadata": {
            "tags": []
          },
          "execution_count": 30
        }
      ]
    },
    {
      "cell_type": "code",
      "metadata": {
        "id": "vq8qKqJCrcAs",
        "colab_type": "code",
        "colab": {
          "base_uri": "https://localhost:8080/",
          "height": 87
        },
        "outputId": "fdf44c77-cb5f-4ed8-fc9a-7013a1b46154"
      },
      "source": [
        "x_new = X_test[:3]\n",
        "y_pred = model.predict(x_new)\n",
        "y_pred.round(2)"
      ],
      "execution_count": 33,
      "outputs": [
        {
          "output_type": "execute_result",
          "data": {
            "text/plain": [
              "array([[0.  , 0.  , 0.  , 0.  , 0.  , 0.  , 0.  , 0.02, 0.  , 0.98],\n",
              "       [0.  , 0.  , 0.96, 0.  , 0.03, 0.  , 0.  , 0.  , 0.  , 0.  ],\n",
              "       [0.  , 1.  , 0.  , 0.  , 0.  , 0.  , 0.  , 0.  , 0.  , 0.  ]],\n",
              "      dtype=float32)"
            ]
          },
          "metadata": {
            "tags": []
          },
          "execution_count": 33
        }
      ]
    },
    {
      "cell_type": "code",
      "metadata": {
        "id": "7mIYteKYr8EZ",
        "colab_type": "code",
        "colab": {
          "base_uri": "https://localhost:8080/",
          "height": 107
        },
        "outputId": "ba8a14e8-f210-4282-888d-177f625cb31f"
      },
      "source": [
        "y_pred = model.predict_classes(x_new)\n",
        "y_pred"
      ],
      "execution_count": 34,
      "outputs": [
        {
          "output_type": "stream",
          "text": [
            "WARNING:tensorflow:From <ipython-input-34-2a45323cfad0>:1: Sequential.predict_classes (from tensorflow.python.keras.engine.sequential) is deprecated and will be removed after 2021-01-01.\n",
            "Instructions for updating:\n",
            "Please use instead:* `np.argmax(model.predict(x), axis=-1)`,   if your model does multi-class classification   (e.g. if it uses a `softmax` last-layer activation).* `(model.predict(x) > 0.5).astype(\"int32\")`,   if your model does binary classification   (e.g. if it uses a `sigmoid` last-layer activation).\n"
          ],
          "name": "stdout"
        },
        {
          "output_type": "execute_result",
          "data": {
            "text/plain": [
              "array([9, 2, 1])"
            ]
          },
          "metadata": {
            "tags": []
          },
          "execution_count": 34
        }
      ]
    },
    {
      "cell_type": "code",
      "metadata": {
        "id": "OwLmj_-MskJJ",
        "colab_type": "code",
        "colab": {}
      },
      "source": [
        "import numpy as np"
      ],
      "execution_count": 0,
      "outputs": []
    },
    {
      "cell_type": "code",
      "metadata": {
        "id": "ATXSTPh6sRni",
        "colab_type": "code",
        "colab": {
          "base_uri": "https://localhost:8080/",
          "height": 34
        },
        "outputId": "185a7d82-3676-48fa-b1ed-5a846749727f"
      },
      "source": [
        "np.array(class_names)[y_pred]"
      ],
      "execution_count": 38,
      "outputs": [
        {
          "output_type": "execute_result",
          "data": {
            "text/plain": [
              "array(['Ankle boot', 'Pullover', 'Trouser'], dtype='<U11')"
            ]
          },
          "metadata": {
            "tags": []
          },
          "execution_count": 38
        }
      ]
    },
    {
      "cell_type": "code",
      "metadata": {
        "id": "OZWcX7EcsbZb",
        "colab_type": "code",
        "colab": {
          "base_uri": "https://localhost:8080/",
          "height": 34
        },
        "outputId": "51d93798-1b50-41c9-d557-bbc07e7dea3a"
      },
      "source": [
        "y_test[:3]"
      ],
      "execution_count": 39,
      "outputs": [
        {
          "output_type": "execute_result",
          "data": {
            "text/plain": [
              "array([9, 2, 1], dtype=uint8)"
            ]
          },
          "metadata": {
            "tags": []
          },
          "execution_count": 39
        }
      ]
    },
    {
      "cell_type": "code",
      "metadata": {
        "id": "2UZau2f8srHU",
        "colab_type": "code",
        "colab": {}
      },
      "source": [
        ""
      ],
      "execution_count": 0,
      "outputs": []
    }
  ]
}